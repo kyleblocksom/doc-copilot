{
 "cells": [
  {
   "cell_type": "code",
   "execution_count": 10,
   "id": "e0a5b860-ffb4-4403-812f-f03fa44f2ed5",
   "metadata": {
    "tags": []
   },
   "outputs": [
    {
     "name": "stdout",
     "output_type": "stream",
     "text": [
      "\u001b[33mWARNING: Running pip as the 'root' user can result in broken permissions and conflicting behaviour with the system package manager. It is recommended to use a virtual environment instead: https://pip.pypa.io/warnings/venv\u001b[0m\u001b[33m\n",
      "\u001b[0m"
     ]
    }
   ],
   "source": [
    "!pip3 install -U -q langchain opensearch-py regex requests_aws4auth PyPDF2 boto3 sagemaker pypdf"
   ]
  },
  {
   "cell_type": "code",
   "execution_count": 30,
   "id": "1aee8f68-ef91-4923-b48c-100a07b93b1a",
   "metadata": {
    "tags": []
   },
   "outputs": [
    {
     "name": "stdout",
     "output_type": "stream",
     "text": [
      "\u001b[33mWARNING: Running pip as the 'root' user can result in broken permissions and conflicting behaviour with the system package manager. It is recommended to use a virtual environment instead: https://pip.pypa.io/warnings/venv\u001b[0m\u001b[33m\n",
      "\u001b[0m"
     ]
    }
   ],
   "source": [
    "!pip3 install -U -q \"ai21[AWS]\""
   ]
  },
  {
   "cell_type": "code",
   "execution_count": 31,
   "id": "86920c45-1172-407f-888d-fdbd88fa9de0",
   "metadata": {
    "tags": []
   },
   "outputs": [],
   "source": [
    "import os\n",
    "import sagemaker\n",
    "import boto3\n",
    "from opensearch import get_stack_details, get_credentials, opensearch_index_name\n",
    "from PyPDF2 import PdfReader\n",
    "import io\n",
    "from langchain.document_loaders import PyPDFLoader, PyPDFDirectoryLoader\n",
    "from langchain.text_splitter import RecursiveCharacterTextSplitter, CharacterTextSplitter\n",
    "from langchain.vectorstores import OpenSearchVectorSearch\n",
    "from load_embeddings import create_sagemaker_embeddings_from_js_model, encoder_endpoint_name, encoder_name\n",
    "import urllib\n",
    "import json\n",
    "import ai21"
   ]
  },
  {
   "cell_type": "code",
   "execution_count": 4,
   "id": "308d7c28-1fd5-4bc3-92b9-d97048a5feb1",
   "metadata": {
    "tags": []
   },
   "outputs": [
    {
     "name": "stdout",
     "output_type": "stream",
     "text": [
      "opensearch-embedding-stack stack found: True\n"
     ]
    },
    {
     "data": {
      "text/plain": [
       "{'opensearch_domain_endpoint': 'https://search-opensearchservi-ttpuslrpxaz9-exltly5br64gbamsfduci2bwsy.us-west-2.es.amazonaws.com',\n",
       " 'opensearch_domain_name': 'arn:aws:es:us-west-2:102048127330:domain/opensearchservi-ttpuslrpxaz9',\n",
       " 'opensearch_secretid': 'arn:aws:secretsmanager:us-west-2:102048127330:secret:OpenSearchSecret-opensearch-embedding-stack-Go1IVo',\n",
       " 'os_creds_secretid_in_secrets_manager': 'OpenSearchSecret-opensearch-embedding-stack'}"
      ]
     },
     "execution_count": 4,
     "metadata": {},
     "output_type": "execute_result"
    }
   ],
   "source": [
    "boto3_session = boto3.session.Session()\n",
    "results = get_stack_details(boto3_session.region_name)\n",
    "results"
   ]
  },
  {
   "cell_type": "code",
   "execution_count": 5,
   "id": "800e5d82-da80-4cc0-8a00-bf431e855d63",
   "metadata": {
    "tags": []
   },
   "outputs": [
    {
     "name": "stdout",
     "output_type": "stream",
     "text": [
      "\n",
      "    Opensearch_domain_name=arn:aws:es:us-west-2:102048127330:domain/opensearchservi-ttpuslrpxaz9,\n",
      "    Opensearch_domain_endpoint=https://search-opensearchservi-ttpuslrpxaz9-exltly5br64gbamsfduci2bwsy.us-west-2.es.amazonaws.com\n",
      "    opensearch_secretid=arn:aws:secretsmanager:us-west-2:102048127330:secret:OpenSearchSecret-opensearch-embedding-stack-Go1IVo\n",
      "\n"
     ]
    }
   ],
   "source": [
    "print(f\"\"\"\n",
    "    Opensearch_domain_name={results['opensearch_domain_name']},\n",
    "    Opensearch_domain_endpoint={results['opensearch_domain_endpoint']}\n",
    "    opensearch_secretid={results['opensearch_secretid']}\n",
    "\"\"\")"
   ]
  },
  {
   "cell_type": "code",
   "execution_count": 8,
   "id": "4ebfc7ad-19fb-4fbb-a38c-9d753ad1bbd8",
   "metadata": {
    "tags": []
   },
   "outputs": [
    {
     "name": "stdout",
     "output_type": "stream",
     "text": [
      "Downloaded https://s2.q4cdn.com/299287126/files/doc_financials/2023/ar/2022-Shareholder-Letter.pdf and stored locally at docs/2022-Shareholder-Letter.pdf\n",
      "Downloaded https://s2.q4cdn.com/299287126/files/doc_financials/2022/ar/2021-Shareholder-Letter.pdf and stored locally at docs/2021-Shareholder-Letter.pdf\n"
     ]
    }
   ],
   "source": [
    "## retrieve PDF artificat from internet using http (in this case, US Constitution)\n",
    "\n",
    "\n",
    "doc_urls = [\n",
    "  'https://s2.q4cdn.com/299287126/files/doc_financials/2023/ar/2022-Shareholder-Letter.pdf',\n",
    "  'https://s2.q4cdn.com/299287126/files/doc_financials/2022/ar/2021-Shareholder-Letter.pdf'\n",
    "]\n",
    "\n",
    "## download the file locally and then load it using pypdfloader \n",
    "\n",
    "pdf_local_paths = []\n",
    "for doc_url in doc_urls:\n",
    "  local_path = f\"\"\"docs/{doc_url.split('/')[-1]}\"\"\"\n",
    "  pdf = urllib.request.urlopen(doc_url)\n",
    "  with open(local_path,'wb') as output:\n",
    "    output.write(pdf.read())\n",
    "    print(f'Downloaded {doc_url} and stored locally at {local_path}')\n",
    "    pdf_local_paths.append(local_path)"
   ]
  },
  {
   "cell_type": "code",
   "execution_count": 11,
   "id": "53b7eb25-b892-4329-873b-0bcf57a2956a",
   "metadata": {
    "tags": []
   },
   "outputs": [
    {
     "name": "stdout",
     "output_type": "stream",
     "text": [
      "You have 19 document(s) in your data\n",
      "There are 4328 characters in your document\n"
     ]
    }
   ],
   "source": [
    "loader = PyPDFDirectoryLoader('docs/')\n",
    "data = loader.load()\n",
    "print (f'You have {len(data)} document(s) in your data')\n",
    "print (f'There are {len(data[0].page_content)} characters in your document')"
   ]
  },
  {
   "cell_type": "code",
   "execution_count": 13,
   "id": "5f9b3375-0045-40bd-9629-2bef7cb7ea25",
   "metadata": {
    "tags": []
   },
   "outputs": [
    {
     "name": "stdout",
     "output_type": "stream",
     "text": [
      "Now you have 112 documents\n",
      "page_content='Dear shareholders:\\nOver the past 25 years at Amazon, I’ve had the opportunity to write many narratives, emails, letters, and\\nkeynotes for employees, customers, and partners. But, this is the first time I’ve had the honor of writing ourannual shareholder letter as CEO of Amazon. Jeff set the bar high on these letters, and I will try to keepthem worth reading.\\nWhen the pandemic started in early 2020, few people thought it would be as expansive or long-running as' metadata={'source': 'docs/2021-Shareholder-Letter.pdf', 'page': 0, 'start_index': 0}\n",
      "page_content='it’s been. Whatever role Amazon played in the world up to that point became further magnified as mostphysical venues shut down for long periods of time and people spent their days at home. This meant thathundreds of millions of people relied on Amazon for PPE, food, clothing, and various other items thathelped them navigate this unprecedented time. Businesses and governments also had to shift, practicallyovernight, from working with colleagues and technology on-premises to working remotely. AWS played amajor role in enabling this business continuity. Whether companies saw extraordinary demand spikes, ordemand diminish quickly with reduced external consumption, the cloud’s elasticity to scale capacity up anddown quickly, as well as AWS’s unusually broad functionality helped millions of companies adjust to thesedifficult circumstances.\\nOur AWS and Consumer businesses have had different demand trajectories during the pandemic. In the' metadata={'source': 'docs/2021-Shareholder-Letter.pdf', 'page': 0, 'start_index': 465}\n",
      "page_content='first year of the pandemic, AWS revenue continued to grow at a rapid clip—30% year over year (“Y oY”) in2020 on a $35 billion annual revenue base in 2019—but slower than the 37% Y oY growth in 2019. Thiswas due in part to the uncertainty and slowing demand that so many businesses encountered, but also inpart to our helping companies optimize their AWS footprint to save money. Concurrently, companies werestepping back and determining what they wanted to change coming out of the pandemic. Many concludedthat they didn’t want to continue managing their technology infrastructure themselves, and made thedecision to accelerate their move to the cloud. This shift by so many companies (along with the economyrecovering) helped re-accelerate AWS’s revenue growth to 37% Y oY in 2021.\\nConversely, our Consumer revenue grew dramatically in 2020. In 2020, Amazon’s North America and' metadata={'source': 'docs/2021-Shareholder-Letter.pdf', 'page': 0, 'start_index': 1410}\n"
     ]
    }
   ],
   "source": [
    "## chunk size and overlap values should be finetune\n",
    "CHUNK_SIZE=1024\n",
    "CHUNK_OVERLAP=64\n",
    "text_splitter = RecursiveCharacterTextSplitter(chunk_size=CHUNK_SIZE, \n",
    "                                               chunk_overlap=CHUNK_OVERLAP,\n",
    "                                               length_function = len,\n",
    "                                               add_start_index = True,)\n",
    "docs = text_splitter.split_documents(data)\n",
    "print (f'Now you have {len(docs)} documents')\n",
    "print (f'{docs[0]}')\n",
    "print (f'{docs[1]}')\n",
    "print (f'{docs[2]}')"
   ]
  },
  {
   "cell_type": "code",
   "execution_count": 18,
   "id": "75f4c365-c88e-4043-a75c-fdeda3e0b2f0",
   "metadata": {
    "tags": []
   },
   "outputs": [],
   "source": [
    "# Helper function to clean up document\n",
    "\n",
    "import regex as re\n",
    "\n",
    "def postproc(s):\n",
    "    s = s.replace(u'\\xa0', u' ') # no-break space \n",
    "    s = s.replace('\\n', ' ') # new-line\n",
    "    return s\n",
    "\n",
    "for doc in docs:\n",
    "    doc.page_content = postproc(doc.page_content)"
   ]
  },
  {
   "cell_type": "code",
   "execution_count": 20,
   "id": "aedabece-4c34-4bb7-82ef-77b2aebb98d4",
   "metadata": {
    "tags": []
   },
   "outputs": [],
   "source": [
    "embeddings = create_sagemaker_embeddings_from_js_model(encoder_endpoint_name, \n",
    "                                                       boto3_session.region_name)"
   ]
  },
  {
   "cell_type": "code",
   "execution_count": 24,
   "id": "a08e6694-d5ec-4bf8-9495-be3e4e972ab2",
   "metadata": {
    "tags": []
   },
   "outputs": [],
   "source": [
    "creds = get_credentials(results['opensearch_secretid'], boto3_session.region_name)\n",
    "http_auth = (creds['username'], creds['password'])"
   ]
  },
  {
   "cell_type": "code",
   "execution_count": 25,
   "id": "4e23e090-4a31-4383-869d-ee4a88d0ea85",
   "metadata": {
    "tags": []
   },
   "outputs": [],
   "source": [
    "docsearch = OpenSearchVectorSearch(index_name=opensearch_index_name,\n",
    "                                       embedding_function=embeddings,\n",
    "                                       opensearch_url=results['opensearch_domain_endpoint'],\n",
    "                                       http_auth=http_auth) "
   ]
  },
  {
   "cell_type": "code",
   "execution_count": 26,
   "id": "f3dd5940-66c7-439d-bb88-ea94c11d306d",
   "metadata": {
    "tags": []
   },
   "outputs": [
    {
     "data": {
      "text/plain": [
       "['78f19356-85a7-457d-a143-2dd4334a0a2d',\n",
       " 'fbec7e02-5485-41bd-abfa-a40a8f5a1dea',\n",
       " '32f32650-436e-4194-9fc0-ddc6bc6a82a8',\n",
       " '6bc9bf8c-7bff-42a5-a394-bb16601ecbaf',\n",
       " 'fbfb4544-2767-4f6a-bedd-966929860469',\n",
       " 'e1c74bf3-30ac-4851-8ef3-5574d8536033',\n",
       " 'f919f8c4-35bd-4ac5-a75d-9ac9868ea972',\n",
       " '2bfb44f6-fbe3-4f42-b24a-0c671c4d6e65',\n",
       " 'f838da99-354e-49a3-8fcf-224bd6c54790',\n",
       " 'affbb984-cb30-442d-9dc7-e222012b06d2',\n",
       " '4de09c64-00c9-4b1c-bed4-9a0b52f16b15',\n",
       " '430e6d9e-e33a-4ee9-abae-0c478c9a30bd',\n",
       " 'c7ca6dbe-3293-41e5-b58e-2ff4e8d3b342',\n",
       " 'c6bb1700-7419-4f63-82a1-e56e352a5a72',\n",
       " '7a72a0e1-3f7c-4c89-8c55-7f3f27166e8d',\n",
       " 'f01a31b2-7352-476d-847d-2346c1e0db57',\n",
       " '8bd7393e-0e2b-4211-ae5b-9fe3332fca9e',\n",
       " '2aa65678-f411-46c6-9347-d91f49f556f7',\n",
       " '8b5ba917-8d01-4464-9b77-a0fe826e70ab',\n",
       " '02508f76-192a-4153-8d77-c98d66c26ce0',\n",
       " '1479bb8e-6162-44f7-bd40-be9e7b6b8161',\n",
       " '8cad90b2-6951-43a7-996c-ef54161d81cf',\n",
       " '1f955357-8bc8-48f8-85a0-2a7e6df7e026',\n",
       " '1331e192-502e-457c-bf2b-07eea34a6c57',\n",
       " '278bff51-7a8e-43dc-a7ad-e8e6827ff14c',\n",
       " 'e406b46c-f5ef-402c-8b49-99a9cdd30073',\n",
       " 'bc1901b4-cd27-4727-bc6c-e14fc5ddfa38',\n",
       " 'db8e40d2-5534-4400-b67d-7adbedef5384',\n",
       " '1fe6ca75-0c2e-4504-b458-06c770e29898',\n",
       " 'daf07c1c-33cf-4e52-95e1-33821125ffbd',\n",
       " '64a8bfab-077f-4025-bcea-3d027218e461',\n",
       " '3ced1d7e-c967-4df7-af1a-e7a23d7f01db',\n",
       " 'eaf506eb-400b-49ad-af50-70697b95cbba',\n",
       " '5c17db35-9f82-41d6-a641-1b6fa14cc955',\n",
       " '7afc5bbb-b971-4074-97e8-ffaa485655e0',\n",
       " '2a18f3c9-4c37-4a83-bfec-54c526097863',\n",
       " 'aecef6e2-f0de-4bf1-92c6-730c53d2426d',\n",
       " 'a9e75c84-e9fa-4c16-806c-f8cc3896bd5c',\n",
       " 'effc1f90-8dc1-45f7-a353-13c4fdfb3e55',\n",
       " '3c9044b2-8103-4ecd-b714-e5d93aaa72a7',\n",
       " '278e2d2e-ccef-4c86-9b2b-ee8a0552730e',\n",
       " '3c00886a-d5c4-4da8-9748-42803eec5ce5',\n",
       " '5bed2f87-91bd-4d36-8bdf-abc916602c26',\n",
       " 'cd8ae161-563e-4afe-9481-2fec58a769cb',\n",
       " '9f4b72ba-a883-44bd-95d6-c2a902789e02',\n",
       " '712dbfd4-1d54-48d7-9618-da486e827130',\n",
       " '1569bdf7-a704-44b7-98c9-970baf77a35b',\n",
       " 'cb28f717-50ba-46d5-a090-55054c2287aa',\n",
       " 'f04e7fc0-f134-4b23-8169-c26388714755',\n",
       " '893490c4-3981-4610-8499-9dcb5ac3bca1',\n",
       " 'bbe92788-72b9-4343-91e5-05c844dee212',\n",
       " 'e512cdc8-be96-4050-8165-cbf87f975770',\n",
       " 'a5c4f720-e43b-4bb9-bb95-ce84a5ae68d1',\n",
       " '284d7a9f-aace-4e24-87ce-017af9d5a43c',\n",
       " 'ef2964fa-719a-4deb-8c45-f8a663718a15',\n",
       " '2d397dd5-f1bd-4249-a121-5ed6f631c8d1',\n",
       " '4685265b-bb8a-48e2-8d7c-f04d41f19712',\n",
       " '5707603a-a6fe-4572-9e8d-138dd02f6339',\n",
       " '1bb66f26-8f06-4909-bbed-a6c7b3aec5bc',\n",
       " 'c734e9db-7b08-4d28-91d8-a46ed5d33934',\n",
       " '29fa5875-2ee1-468f-a1ec-c9b70199213f',\n",
       " 'fbdc8aa0-2b48-4e0d-b0f8-af677ba007e6',\n",
       " 'bbe3264d-be7e-43a5-9438-704528f7eec9',\n",
       " '7e4d8e3a-ed40-4f60-9462-9235e2324c85',\n",
       " '28877120-11a3-4cf5-b3f8-b2f97393c62c',\n",
       " 'e0db2719-52a4-4912-99ea-1412e63df0e0',\n",
       " 'e5fa4004-0444-4b71-a983-270ab59bc707',\n",
       " '32f50a58-4ae4-4932-b5cc-74d691da01eb',\n",
       " '44aa6d6b-34a9-41d9-9eba-d407195c79f6',\n",
       " '73b95d01-a8b7-4a3e-ba6c-1f62aaef3fae',\n",
       " '7884022d-ac9b-4da4-be64-9bf9b033f292',\n",
       " '3e55bd7c-59b9-48a1-9c8a-0e1649aa6e74',\n",
       " '6472c8e9-008a-49d5-9919-3c55ab3991dc',\n",
       " 'ab90f7a7-0c44-45f0-b6cb-283df45c8816',\n",
       " '32ee6b9b-d058-4aad-bef8-63dd665da8f9',\n",
       " 'c0fee8e9-fb15-40ee-bceb-9690a0aa7eb1',\n",
       " 'dac2dd8b-0cfb-443e-b4f5-70b7511b6168',\n",
       " '62a89806-e761-4799-aeb6-eabf065b9760',\n",
       " 'd2217230-2537-433d-81c8-4f560d2e8c56',\n",
       " '640833fd-8baa-4672-a776-255fc12e7a6e',\n",
       " '652b7d8a-eba9-4c28-86d0-40d8fe0b036f',\n",
       " '6df8da06-6755-4daf-9de8-50bc8ab974a8',\n",
       " '8415827d-e187-425e-9885-caf7efc4f329',\n",
       " '8671a636-8eae-4e81-aed8-1fdd69713c3e',\n",
       " 'd9dd3628-d989-4270-ad00-d71f41764e11',\n",
       " '7d226ef2-6675-4edc-8ff9-b68ffcc122d9',\n",
       " 'a9e4f309-eacc-4d27-b623-b53a5a4a1ebf',\n",
       " 'bfed5a37-4e48-4089-8a06-a830217f4ab4',\n",
       " 'e3c9dce2-1f94-4d7f-8034-ebc1b256f91f',\n",
       " '262c51d6-0489-4d36-92fc-803e8c5a707d',\n",
       " '364e8f62-ee0e-4d0a-9e2f-8d4cf5cbef62',\n",
       " '12661ae2-947f-449e-953c-e1e3ebbc2d86',\n",
       " 'bb6770f9-225d-43b1-8473-3455a43554b2',\n",
       " '7909a10a-a16c-4fb6-96d6-008fcf5ff3aa',\n",
       " '6a484c36-8e2d-48f9-b19f-4946748fcfc5',\n",
       " '1846946d-6af9-4ca0-86ab-daca33f0f04c',\n",
       " '8d0fc448-e89b-4b70-baf6-b6377d1225ed',\n",
       " 'd727c240-a5fa-44d4-8001-c6e52cdedbe2',\n",
       " 'b6b3499e-7657-4280-9d84-16276a5d557b',\n",
       " 'ba194004-3cd9-4289-8616-2bf68851021a',\n",
       " '3fbf5cdd-d43a-40e5-9134-81acfbae2a7a',\n",
       " 'ed3c1ac9-cfb3-4987-b11b-85cb8873db85',\n",
       " 'ba870b2e-1c5c-4c45-88ea-2d9b4e531595',\n",
       " 'c51b230e-503f-4c37-9049-33e32b964cb3',\n",
       " '41997a1f-f3ff-4b59-9ecf-d7a84ce81468',\n",
       " 'c1aa3227-2131-4501-b895-fcde5eb54ce9',\n",
       " '9b8f8559-ec15-49bc-b295-30fdc7ecc5d6',\n",
       " 'da6b5c8e-38ea-44cb-b1be-c27f0a4c7088',\n",
       " 'fd45bb15-0cd2-4891-be3e-67082934dfe9',\n",
       " '52f272e6-965f-4c48-941d-902017ccc6a7',\n",
       " 'ce58bb2e-962d-4ac5-9f15-46f025c08404',\n",
       " '3b5c4647-e5c8-46de-abda-307ef3e7f01c']"
      ]
     },
     "execution_count": 26,
     "metadata": {},
     "output_type": "execute_result"
    }
   ],
   "source": [
    "docsearch.add_documents(documents=docs)"
   ]
  },
  {
   "cell_type": "code",
   "execution_count": 27,
   "id": "58d100dd-c248-413e-8888-1d99f36f239b",
   "metadata": {
    "tags": []
   },
   "outputs": [
    {
     "data": {
      "text/plain": [
       "112"
      ]
     },
     "execution_count": 27,
     "metadata": {},
     "output_type": "execute_result"
    }
   ],
   "source": [
    "len(docs)"
   ]
  },
  {
   "cell_type": "code",
   "execution_count": 28,
   "id": "40b4d9d5-da08-415a-9975-c9ad249a0607",
   "metadata": {
    "tags": []
   },
   "outputs": [
    {
     "name": "stdout",
     "output_type": "stream",
     "text": [
      "Found : 5 docs\n",
      "page_content='We also looked hard at how we were working together as a team and asked our corporate employees to come back to the office at least three days a week , beginning in May. During the pandemic, our employees rallied to' metadata={'source': 'docs/2022-Shareholder-Letter.pdf', 'page': 1, 'start_index': 1111}\n",
      "page_content='commitment and effort from our employees all over the world. I’m not sure any of us would have gotten' metadata={'source': 'docs/2021-Shareholder-Letter.pdf', 'page': 0, 'start_index': 4227}\n",
      "page_content='Ironically, just before COVID started, we’d made the decision to invest billions of incremental dollars over' metadata={'source': 'docs/2021-Shareholder-Letter.pdf', 'page': 1, 'start_index': 3252}\n",
      "page_content='the surface of what’s possible to date, and plan to keep building the features ourbusiness customers tell us they need and want.' metadata={'source': 'docs/2022-Shareholder-Letter.pdf', 'page': 4, 'start_index': 2879}\n",
      "page_content='they’re moving in a dangerous way, improved shoes to provide better toe protection, training programs on body mechanics, wellness, and safety practices). But, we still have a ways to go, and we’ll approach it like wedo other customer experiences—we’ll keep learning, inventing, and iterating until we have moretransformational results. We won’t be satisfied until we do. Similarly, at our scale, we have a significant carbon footprint. It’s a big part of why we created The Climate' metadata={'source': 'docs/2021-Shareholder-Letter.pdf', 'page': 4, 'start_index': 0}\n"
     ]
    }
   ],
   "source": [
    "query = \"Tell me about the return of office policy\"\n",
    "docsearch = OpenSearchVectorSearch(index_name=opensearch_index_name,\n",
    "                                   embedding_function=embeddings,\n",
    "                                   opensearch_url=results['opensearch_domain_endpoint'],\n",
    "                                   http_auth=http_auth)\n",
    "similar_docs = docsearch.similarity_search(query, k=5, include_metadata=True)\n",
    "print(f'Found : {len(similar_docs)} docs')\n",
    "for doc in similar_docs:\n",
    "    print(doc)"
   ]
  },
  {
   "cell_type": "code",
   "execution_count": 32,
   "id": "70719679-b458-4cd2-851a-124f15690dc9",
   "metadata": {
    "tags": []
   },
   "outputs": [
    {
     "name": "stdout",
     "output_type": "stream",
     "text": [
      "We also looked hard at how we were working together as a team and asked our corporate employees to come back to the office at least three days a week , beginning in May. During the pandemic, our employees rallied to\n"
     ]
    }
   ],
   "source": [
    "\n",
    "model_name = \"contextual-answers\"\n",
    "endpoint_name = f'{model_name}-endpoint'\n",
    "\n",
    "context = similar_docs[0].page_content\n",
    "print(context)\n"
   ]
  },
  {
   "cell_type": "code",
   "execution_count": 34,
   "id": "c39da14d-58b6-486e-b11c-1f4496feb254",
   "metadata": {
    "tags": []
   },
   "outputs": [
    {
     "name": "stdout",
     "output_type": "stream",
     "text": [
      "We will require corporate employees to be in the office at least three days a week, beginning in May.\n"
     ]
    }
   ],
   "source": [
    "response = ai21.Answer.execute(\n",
    "    context=context,\n",
    "    question=query,\n",
    "    destination=ai21.SageMakerDestination(endpoint_name)\n",
    ")\n",
    "\n",
    "print(response.answer)\n"
   ]
  }
 ],
 "metadata": {
  "availableInstances": [
   {
    "_defaultOrder": 0,
    "_isFastLaunch": true,
    "category": "General purpose",
    "gpuNum": 0,
    "hideHardwareSpecs": false,
    "memoryGiB": 4,
    "name": "ml.t3.medium",
    "vcpuNum": 2
   },
   {
    "_defaultOrder": 1,
    "_isFastLaunch": false,
    "category": "General purpose",
    "gpuNum": 0,
    "hideHardwareSpecs": false,
    "memoryGiB": 8,
    "name": "ml.t3.large",
    "vcpuNum": 2
   },
   {
    "_defaultOrder": 2,
    "_isFastLaunch": false,
    "category": "General purpose",
    "gpuNum": 0,
    "hideHardwareSpecs": false,
    "memoryGiB": 16,
    "name": "ml.t3.xlarge",
    "vcpuNum": 4
   },
   {
    "_defaultOrder": 3,
    "_isFastLaunch": false,
    "category": "General purpose",
    "gpuNum": 0,
    "hideHardwareSpecs": false,
    "memoryGiB": 32,
    "name": "ml.t3.2xlarge",
    "vcpuNum": 8
   },
   {
    "_defaultOrder": 4,
    "_isFastLaunch": true,
    "category": "General purpose",
    "gpuNum": 0,
    "hideHardwareSpecs": false,
    "memoryGiB": 8,
    "name": "ml.m5.large",
    "vcpuNum": 2
   },
   {
    "_defaultOrder": 5,
    "_isFastLaunch": false,
    "category": "General purpose",
    "gpuNum": 0,
    "hideHardwareSpecs": false,
    "memoryGiB": 16,
    "name": "ml.m5.xlarge",
    "vcpuNum": 4
   },
   {
    "_defaultOrder": 6,
    "_isFastLaunch": false,
    "category": "General purpose",
    "gpuNum": 0,
    "hideHardwareSpecs": false,
    "memoryGiB": 32,
    "name": "ml.m5.2xlarge",
    "vcpuNum": 8
   },
   {
    "_defaultOrder": 7,
    "_isFastLaunch": false,
    "category": "General purpose",
    "gpuNum": 0,
    "hideHardwareSpecs": false,
    "memoryGiB": 64,
    "name": "ml.m5.4xlarge",
    "vcpuNum": 16
   },
   {
    "_defaultOrder": 8,
    "_isFastLaunch": false,
    "category": "General purpose",
    "gpuNum": 0,
    "hideHardwareSpecs": false,
    "memoryGiB": 128,
    "name": "ml.m5.8xlarge",
    "vcpuNum": 32
   },
   {
    "_defaultOrder": 9,
    "_isFastLaunch": false,
    "category": "General purpose",
    "gpuNum": 0,
    "hideHardwareSpecs": false,
    "memoryGiB": 192,
    "name": "ml.m5.12xlarge",
    "vcpuNum": 48
   },
   {
    "_defaultOrder": 10,
    "_isFastLaunch": false,
    "category": "General purpose",
    "gpuNum": 0,
    "hideHardwareSpecs": false,
    "memoryGiB": 256,
    "name": "ml.m5.16xlarge",
    "vcpuNum": 64
   },
   {
    "_defaultOrder": 11,
    "_isFastLaunch": false,
    "category": "General purpose",
    "gpuNum": 0,
    "hideHardwareSpecs": false,
    "memoryGiB": 384,
    "name": "ml.m5.24xlarge",
    "vcpuNum": 96
   },
   {
    "_defaultOrder": 12,
    "_isFastLaunch": false,
    "category": "General purpose",
    "gpuNum": 0,
    "hideHardwareSpecs": false,
    "memoryGiB": 8,
    "name": "ml.m5d.large",
    "vcpuNum": 2
   },
   {
    "_defaultOrder": 13,
    "_isFastLaunch": false,
    "category": "General purpose",
    "gpuNum": 0,
    "hideHardwareSpecs": false,
    "memoryGiB": 16,
    "name": "ml.m5d.xlarge",
    "vcpuNum": 4
   },
   {
    "_defaultOrder": 14,
    "_isFastLaunch": false,
    "category": "General purpose",
    "gpuNum": 0,
    "hideHardwareSpecs": false,
    "memoryGiB": 32,
    "name": "ml.m5d.2xlarge",
    "vcpuNum": 8
   },
   {
    "_defaultOrder": 15,
    "_isFastLaunch": false,
    "category": "General purpose",
    "gpuNum": 0,
    "hideHardwareSpecs": false,
    "memoryGiB": 64,
    "name": "ml.m5d.4xlarge",
    "vcpuNum": 16
   },
   {
    "_defaultOrder": 16,
    "_isFastLaunch": false,
    "category": "General purpose",
    "gpuNum": 0,
    "hideHardwareSpecs": false,
    "memoryGiB": 128,
    "name": "ml.m5d.8xlarge",
    "vcpuNum": 32
   },
   {
    "_defaultOrder": 17,
    "_isFastLaunch": false,
    "category": "General purpose",
    "gpuNum": 0,
    "hideHardwareSpecs": false,
    "memoryGiB": 192,
    "name": "ml.m5d.12xlarge",
    "vcpuNum": 48
   },
   {
    "_defaultOrder": 18,
    "_isFastLaunch": false,
    "category": "General purpose",
    "gpuNum": 0,
    "hideHardwareSpecs": false,
    "memoryGiB": 256,
    "name": "ml.m5d.16xlarge",
    "vcpuNum": 64
   },
   {
    "_defaultOrder": 19,
    "_isFastLaunch": false,
    "category": "General purpose",
    "gpuNum": 0,
    "hideHardwareSpecs": false,
    "memoryGiB": 384,
    "name": "ml.m5d.24xlarge",
    "vcpuNum": 96
   },
   {
    "_defaultOrder": 20,
    "_isFastLaunch": false,
    "category": "General purpose",
    "gpuNum": 0,
    "hideHardwareSpecs": true,
    "memoryGiB": 0,
    "name": "ml.geospatial.interactive",
    "supportedImageNames": [
     "sagemaker-geospatial-v1-0"
    ],
    "vcpuNum": 0
   },
   {
    "_defaultOrder": 21,
    "_isFastLaunch": true,
    "category": "Compute optimized",
    "gpuNum": 0,
    "hideHardwareSpecs": false,
    "memoryGiB": 4,
    "name": "ml.c5.large",
    "vcpuNum": 2
   },
   {
    "_defaultOrder": 22,
    "_isFastLaunch": false,
    "category": "Compute optimized",
    "gpuNum": 0,
    "hideHardwareSpecs": false,
    "memoryGiB": 8,
    "name": "ml.c5.xlarge",
    "vcpuNum": 4
   },
   {
    "_defaultOrder": 23,
    "_isFastLaunch": false,
    "category": "Compute optimized",
    "gpuNum": 0,
    "hideHardwareSpecs": false,
    "memoryGiB": 16,
    "name": "ml.c5.2xlarge",
    "vcpuNum": 8
   },
   {
    "_defaultOrder": 24,
    "_isFastLaunch": false,
    "category": "Compute optimized",
    "gpuNum": 0,
    "hideHardwareSpecs": false,
    "memoryGiB": 32,
    "name": "ml.c5.4xlarge",
    "vcpuNum": 16
   },
   {
    "_defaultOrder": 25,
    "_isFastLaunch": false,
    "category": "Compute optimized",
    "gpuNum": 0,
    "hideHardwareSpecs": false,
    "memoryGiB": 72,
    "name": "ml.c5.9xlarge",
    "vcpuNum": 36
   },
   {
    "_defaultOrder": 26,
    "_isFastLaunch": false,
    "category": "Compute optimized",
    "gpuNum": 0,
    "hideHardwareSpecs": false,
    "memoryGiB": 96,
    "name": "ml.c5.12xlarge",
    "vcpuNum": 48
   },
   {
    "_defaultOrder": 27,
    "_isFastLaunch": false,
    "category": "Compute optimized",
    "gpuNum": 0,
    "hideHardwareSpecs": false,
    "memoryGiB": 144,
    "name": "ml.c5.18xlarge",
    "vcpuNum": 72
   },
   {
    "_defaultOrder": 28,
    "_isFastLaunch": false,
    "category": "Compute optimized",
    "gpuNum": 0,
    "hideHardwareSpecs": false,
    "memoryGiB": 192,
    "name": "ml.c5.24xlarge",
    "vcpuNum": 96
   },
   {
    "_defaultOrder": 29,
    "_isFastLaunch": true,
    "category": "Accelerated computing",
    "gpuNum": 1,
    "hideHardwareSpecs": false,
    "memoryGiB": 16,
    "name": "ml.g4dn.xlarge",
    "vcpuNum": 4
   },
   {
    "_defaultOrder": 30,
    "_isFastLaunch": false,
    "category": "Accelerated computing",
    "gpuNum": 1,
    "hideHardwareSpecs": false,
    "memoryGiB": 32,
    "name": "ml.g4dn.2xlarge",
    "vcpuNum": 8
   },
   {
    "_defaultOrder": 31,
    "_isFastLaunch": false,
    "category": "Accelerated computing",
    "gpuNum": 1,
    "hideHardwareSpecs": false,
    "memoryGiB": 64,
    "name": "ml.g4dn.4xlarge",
    "vcpuNum": 16
   },
   {
    "_defaultOrder": 32,
    "_isFastLaunch": false,
    "category": "Accelerated computing",
    "gpuNum": 1,
    "hideHardwareSpecs": false,
    "memoryGiB": 128,
    "name": "ml.g4dn.8xlarge",
    "vcpuNum": 32
   },
   {
    "_defaultOrder": 33,
    "_isFastLaunch": false,
    "category": "Accelerated computing",
    "gpuNum": 4,
    "hideHardwareSpecs": false,
    "memoryGiB": 192,
    "name": "ml.g4dn.12xlarge",
    "vcpuNum": 48
   },
   {
    "_defaultOrder": 34,
    "_isFastLaunch": false,
    "category": "Accelerated computing",
    "gpuNum": 1,
    "hideHardwareSpecs": false,
    "memoryGiB": 256,
    "name": "ml.g4dn.16xlarge",
    "vcpuNum": 64
   },
   {
    "_defaultOrder": 35,
    "_isFastLaunch": false,
    "category": "Accelerated computing",
    "gpuNum": 1,
    "hideHardwareSpecs": false,
    "memoryGiB": 61,
    "name": "ml.p3.2xlarge",
    "vcpuNum": 8
   },
   {
    "_defaultOrder": 36,
    "_isFastLaunch": false,
    "category": "Accelerated computing",
    "gpuNum": 4,
    "hideHardwareSpecs": false,
    "memoryGiB": 244,
    "name": "ml.p3.8xlarge",
    "vcpuNum": 32
   },
   {
    "_defaultOrder": 37,
    "_isFastLaunch": false,
    "category": "Accelerated computing",
    "gpuNum": 8,
    "hideHardwareSpecs": false,
    "memoryGiB": 488,
    "name": "ml.p3.16xlarge",
    "vcpuNum": 64
   },
   {
    "_defaultOrder": 38,
    "_isFastLaunch": false,
    "category": "Accelerated computing",
    "gpuNum": 8,
    "hideHardwareSpecs": false,
    "memoryGiB": 768,
    "name": "ml.p3dn.24xlarge",
    "vcpuNum": 96
   },
   {
    "_defaultOrder": 39,
    "_isFastLaunch": false,
    "category": "Memory Optimized",
    "gpuNum": 0,
    "hideHardwareSpecs": false,
    "memoryGiB": 16,
    "name": "ml.r5.large",
    "vcpuNum": 2
   },
   {
    "_defaultOrder": 40,
    "_isFastLaunch": false,
    "category": "Memory Optimized",
    "gpuNum": 0,
    "hideHardwareSpecs": false,
    "memoryGiB": 32,
    "name": "ml.r5.xlarge",
    "vcpuNum": 4
   },
   {
    "_defaultOrder": 41,
    "_isFastLaunch": false,
    "category": "Memory Optimized",
    "gpuNum": 0,
    "hideHardwareSpecs": false,
    "memoryGiB": 64,
    "name": "ml.r5.2xlarge",
    "vcpuNum": 8
   },
   {
    "_defaultOrder": 42,
    "_isFastLaunch": false,
    "category": "Memory Optimized",
    "gpuNum": 0,
    "hideHardwareSpecs": false,
    "memoryGiB": 128,
    "name": "ml.r5.4xlarge",
    "vcpuNum": 16
   },
   {
    "_defaultOrder": 43,
    "_isFastLaunch": false,
    "category": "Memory Optimized",
    "gpuNum": 0,
    "hideHardwareSpecs": false,
    "memoryGiB": 256,
    "name": "ml.r5.8xlarge",
    "vcpuNum": 32
   },
   {
    "_defaultOrder": 44,
    "_isFastLaunch": false,
    "category": "Memory Optimized",
    "gpuNum": 0,
    "hideHardwareSpecs": false,
    "memoryGiB": 384,
    "name": "ml.r5.12xlarge",
    "vcpuNum": 48
   },
   {
    "_defaultOrder": 45,
    "_isFastLaunch": false,
    "category": "Memory Optimized",
    "gpuNum": 0,
    "hideHardwareSpecs": false,
    "memoryGiB": 512,
    "name": "ml.r5.16xlarge",
    "vcpuNum": 64
   },
   {
    "_defaultOrder": 46,
    "_isFastLaunch": false,
    "category": "Memory Optimized",
    "gpuNum": 0,
    "hideHardwareSpecs": false,
    "memoryGiB": 768,
    "name": "ml.r5.24xlarge",
    "vcpuNum": 96
   },
   {
    "_defaultOrder": 47,
    "_isFastLaunch": false,
    "category": "Accelerated computing",
    "gpuNum": 1,
    "hideHardwareSpecs": false,
    "memoryGiB": 16,
    "name": "ml.g5.xlarge",
    "vcpuNum": 4
   },
   {
    "_defaultOrder": 48,
    "_isFastLaunch": false,
    "category": "Accelerated computing",
    "gpuNum": 1,
    "hideHardwareSpecs": false,
    "memoryGiB": 32,
    "name": "ml.g5.2xlarge",
    "vcpuNum": 8
   },
   {
    "_defaultOrder": 49,
    "_isFastLaunch": false,
    "category": "Accelerated computing",
    "gpuNum": 1,
    "hideHardwareSpecs": false,
    "memoryGiB": 64,
    "name": "ml.g5.4xlarge",
    "vcpuNum": 16
   },
   {
    "_defaultOrder": 50,
    "_isFastLaunch": false,
    "category": "Accelerated computing",
    "gpuNum": 1,
    "hideHardwareSpecs": false,
    "memoryGiB": 128,
    "name": "ml.g5.8xlarge",
    "vcpuNum": 32
   },
   {
    "_defaultOrder": 51,
    "_isFastLaunch": false,
    "category": "Accelerated computing",
    "gpuNum": 1,
    "hideHardwareSpecs": false,
    "memoryGiB": 256,
    "name": "ml.g5.16xlarge",
    "vcpuNum": 64
   },
   {
    "_defaultOrder": 52,
    "_isFastLaunch": false,
    "category": "Accelerated computing",
    "gpuNum": 4,
    "hideHardwareSpecs": false,
    "memoryGiB": 192,
    "name": "ml.g5.12xlarge",
    "vcpuNum": 48
   },
   {
    "_defaultOrder": 53,
    "_isFastLaunch": false,
    "category": "Accelerated computing",
    "gpuNum": 4,
    "hideHardwareSpecs": false,
    "memoryGiB": 384,
    "name": "ml.g5.24xlarge",
    "vcpuNum": 96
   },
   {
    "_defaultOrder": 54,
    "_isFastLaunch": false,
    "category": "Accelerated computing",
    "gpuNum": 8,
    "hideHardwareSpecs": false,
    "memoryGiB": 768,
    "name": "ml.g5.48xlarge",
    "vcpuNum": 192
   },
   {
    "_defaultOrder": 55,
    "_isFastLaunch": false,
    "category": "Accelerated computing",
    "gpuNum": 8,
    "hideHardwareSpecs": false,
    "memoryGiB": 1152,
    "name": "ml.p4d.24xlarge",
    "vcpuNum": 96
   },
   {
    "_defaultOrder": 56,
    "_isFastLaunch": false,
    "category": "Accelerated computing",
    "gpuNum": 8,
    "hideHardwareSpecs": false,
    "memoryGiB": 1152,
    "name": "ml.p4de.24xlarge",
    "vcpuNum": 96
   }
  ],
  "kernelspec": {
   "display_name": "Python 3 (Data Science 3.0)",
   "language": "python",
   "name": "python3__SAGEMAKER_INTERNAL__arn:aws:sagemaker:us-west-2:236514542706:image/sagemaker-data-science-310-v1"
  },
  "language_info": {
   "codemirror_mode": {
    "name": "ipython",
    "version": 3
   },
   "file_extension": ".py",
   "mimetype": "text/x-python",
   "name": "python",
   "nbconvert_exporter": "python",
   "pygments_lexer": "ipython3",
   "version": "3.10.6"
  }
 },
 "nbformat": 4,
 "nbformat_minor": 5
}
