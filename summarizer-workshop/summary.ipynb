{
 "cells": [
  {
   "cell_type": "markdown",
   "id": "74e89d58-4115-4f04-8513-53b7a9db9ec4",
   "metadata": {},
   "source": [
    "### Objective: Create summary of a specific page of the 2021 and 2022 Amazon Shareholder letter document (in PDF).\n",
    "\n",
    "#### Thie highl level steps are as follows:\n",
    "\n",
    "1. Deploy AI21 Summary LLM model \n",
    "2. Convert and split the files into text files, where each page represents a page from the original doc \n",
    "3. Create streamlimt based UI which will allow user to \n",
    "    a. Select Shareholder letter document\n",
    "    b. Select a page of the relevant document\n",
    "    c. Generate Summary \n",
    "4. Clean up "
   ]
  },
  {
   "cell_type": "code",
   "execution_count": 3,
   "id": "218b37fc-77aa-48c4-a9b2-26ed991f825e",
   "metadata": {
    "tags": []
   },
   "outputs": [
    {
     "name": "stdout",
     "output_type": "stream",
     "text": [
      "\u001b[33mWARNING: Running pip as the 'root' user can result in broken permissions and conflicting behaviour with the system package manager. It is recommended to use a virtual environment instead: https://pip.pypa.io/warnings/venv\u001b[0m\u001b[33m\n",
      "\u001b[0mNote: you may need to restart the kernel to use updated packages.\n"
     ]
    }
   ],
   "source": [
    "### install libraries  \n",
    "%pip install -q -U  pymupdf \"ai21[AWS]\" langchain streamlit ipykernel"
   ]
  },
  {
   "cell_type": "code",
   "execution_count": 4,
   "id": "f5505e30-b25a-43ce-984f-d3005d738e3b",
   "metadata": {
    "tags": []
   },
   "outputs": [
    {
     "name": "stderr",
     "output_type": "stream",
     "text": [
      "/opt/conda/lib/python3.10/site-packages/scipy/__init__.py:155: UserWarning: A NumPy version >=1.18.5 and <1.25.0 is required for this version of SciPy (detected version 1.25.1\n",
      "  warnings.warn(f\"A NumPy version >={np_minversion} and <{np_maxversion}\"\n"
     ]
    }
   ],
   "source": [
    "import fitz\n",
    "import io\n",
    "from langchain.document_loaders import PyPDFLoader\n",
    "import sagemaker\n",
    "import boto3\n",
    "import ai21\n",
    "import os\n",
    "from sagemaker.huggingface import HuggingFaceModel, get_huggingface_llm_image_uri\n",
    "import json as json\n",
    "from sagemaker import ModelPackage, get_execution_role \n",
    "import urllib"
   ]
  },
  {
   "cell_type": "markdown",
   "id": "df0079f1-3aac-48a3-9053-23fc27658b60",
   "metadata": {},
   "source": [
    "### Step 1 : Read PDF file and save each page of PDF as a text file locally"
   ]
  },
  {
   "cell_type": "code",
   "execution_count": 3,
   "id": "c989a916-82af-4d3d-be6f-fe57f4d9995b",
   "metadata": {
    "tags": []
   },
   "outputs": [],
   "source": [
    "shareholder_letter_url_2022 = 'https://s2.q4cdn.com/299287126/files/doc_financials/2023/ar/2022-Shareholder-Letter.pdf'\n",
    "shareholder_letter_url_2021 = 'https://s2.q4cdn.com/299287126/files/doc_financials/2022/ar/2021-Shareholder-Letter.pdf'"
   ]
  },
  {
   "cell_type": "code",
   "execution_count": 10,
   "id": "a1364cca-67cb-41dc-b7bb-9ada4263d035",
   "metadata": {
    "tags": []
   },
   "outputs": [],
   "source": [
    "os.chdir(\"summarizer-workshop\")"
   ]
  },
  {
   "cell_type": "code",
   "execution_count": 26,
   "id": "5ac3e736-af8c-49a3-9dda-f3ca02c88cab",
   "metadata": {
    "tags": []
   },
   "outputs": [],
   "source": [
    "def split_pdf_to_text(doc_url):\n",
    "    ## donwload \n",
    "    pdf = urllib.request.urlopen(doc_url)\n",
    "    saved_file = 'docs/' + doc_url.split('/')[-1]\n",
    "    with open(saved_file,'wb') as output:\n",
    "        output.write(pdf.read())\n",
    "    doc = fitz.open(saved_file)\n",
    "    for i,page in enumerate(doc):\n",
    "        saved_txt_file = saved_file.replace(\".pdf\",\".txt\")\n",
    "        saved_txt_file = saved_txt_file.replace('.txt',f'_{i+1}.txt')\n",
    "        with open(saved_txt_file,'w') as output:\n",
    "            output.write(page.get_text())\n",
    "        print(f'Saved page {i+1} in {saved_txt_file}')\n",
    "\n",
    "    "
   ]
  },
  {
   "cell_type": "code",
   "execution_count": 27,
   "id": "92f7b307-1941-48dd-b115-268e8e350b70",
   "metadata": {
    "tags": []
   },
   "outputs": [
    {
     "name": "stdout",
     "output_type": "stream",
     "text": [
      "Saved page 1 in docs/2022-Shareholder-Letter_1.txt\n",
      "Saved page 2 in docs/2022-Shareholder-Letter_2.txt\n",
      "Saved page 3 in docs/2022-Shareholder-Letter_3.txt\n",
      "Saved page 4 in docs/2022-Shareholder-Letter_4.txt\n",
      "Saved page 5 in docs/2022-Shareholder-Letter_5.txt\n",
      "Saved page 6 in docs/2022-Shareholder-Letter_6.txt\n",
      "Saved page 7 in docs/2022-Shareholder-Letter_7.txt\n",
      "Saved page 8 in docs/2022-Shareholder-Letter_8.txt\n",
      "Saved page 9 in docs/2022-Shareholder-Letter_9.txt\n",
      "Saved page 10 in docs/2022-Shareholder-Letter_10.txt\n"
     ]
    }
   ],
   "source": [
    "split_pdf_to_text(shareholder_letter_url_2022)"
   ]
  },
  {
   "cell_type": "code",
   "execution_count": 28,
   "id": "3f72a42b-60b9-42d3-a8f0-b98c05b102de",
   "metadata": {
    "tags": []
   },
   "outputs": [
    {
     "name": "stdout",
     "output_type": "stream",
     "text": [
      "Saved page 1 in docs/2021-Shareholder-Letter_1.txt\n",
      "Saved page 2 in docs/2021-Shareholder-Letter_2.txt\n",
      "Saved page 3 in docs/2021-Shareholder-Letter_3.txt\n",
      "Saved page 4 in docs/2021-Shareholder-Letter_4.txt\n",
      "Saved page 5 in docs/2021-Shareholder-Letter_5.txt\n",
      "Saved page 6 in docs/2021-Shareholder-Letter_6.txt\n",
      "Saved page 7 in docs/2021-Shareholder-Letter_7.txt\n",
      "Saved page 8 in docs/2021-Shareholder-Letter_8.txt\n",
      "Saved page 9 in docs/2021-Shareholder-Letter_9.txt\n"
     ]
    }
   ],
   "source": [
    "split_pdf_to_text(shareholder_letter_url_2021)"
   ]
  },
  {
   "cell_type": "code",
   "execution_count": 18,
   "id": "b8c4489b-3f09-40eb-afce-73676164c24b",
   "metadata": {
    "tags": []
   },
   "outputs": [
    {
     "data": {
      "text/plain": [
       "page 0 of docs/2022-Shareholder-Letter.pdf"
      ]
     },
     "execution_count": 18,
     "metadata": {},
     "output_type": "execute_result"
    }
   ],
   "source": [
    "doc[0]"
   ]
  },
  {
   "cell_type": "code",
   "execution_count": 22,
   "id": "427def4c-8019-4fc4-af7d-af3076c772c6",
   "metadata": {
    "tags": []
   },
   "outputs": [],
   "source": [
    "def process_pdf(saved_file):\n"
   ]
  },
  {
   "cell_type": "code",
   "execution_count": 23,
   "id": "b6ff0694-00d1-4de6-9032-d52ad51d5639",
   "metadata": {
    "tags": []
   },
   "outputs": [
    {
     "name": "stdout",
     "output_type": "stream",
     "text": [
      "Saved page 1 in docs//2022-Shareholder-Letter_1.txt\n",
      "Saved page 2 in docs//2022-Shareholder-Letter_2.txt\n",
      "Saved page 3 in docs//2022-Shareholder-Letter_3.txt\n",
      "Saved page 4 in docs//2022-Shareholder-Letter_4.txt\n",
      "Saved page 5 in docs//2022-Shareholder-Letter_5.txt\n",
      "Saved page 6 in docs//2022-Shareholder-Letter_6.txt\n",
      "Saved page 7 in docs//2022-Shareholder-Letter_7.txt\n",
      "Saved page 8 in docs//2022-Shareholder-Letter_8.txt\n",
      "Saved page 9 in docs//2022-Shareholder-Letter_9.txt\n",
      "Saved page 10 in docs//2022-Shareholder-Letter_10.txt\n"
     ]
    }
   ],
   "source": [
    "process_pdf('docs//2022-Shareholder-Letter.pdf')"
   ]
  },
  {
   "cell_type": "markdown",
   "id": "8903ca7c-971f-477a-b6a7-0085aebb7864",
   "metadata": {},
   "source": [
    "### Step 2 : Deploy AI21 Summarizer model from Amazon Sagemaker Market place \n",
    "This model generates a summary based on any body of text. Your source text can contain up to 50,000 characters, translating to roughly 10,000 words, or an impressive 40 pages!\n",
    "\n",
    "**No prompting needed** – simply input the text that needs to be summarized. The model is specifically trained to generate summaries that capture the essence and key ideas of the original text.\n",
    "\n",
    "Learn more at https://aws.amazon.com/marketplace/pp/prodview-dkwy6chb63hk2?sr=0-3&ref_=beagle&applicationId=AWSMPContessa\n"
   ]
  },
  {
   "cell_type": "code",
   "execution_count": 11,
   "id": "29ab1c7a-28a4-46d6-af59-7fe7cbd5aad4",
   "metadata": {
    "tags": []
   },
   "outputs": [
    {
     "name": "stdout",
     "output_type": "stream",
     "text": [
      "Session S3 Bucket: sagemaker-us-west-2-102048127330\n",
      "Role: arn:aws:iam::102048127330:role/service-role/AmazonSageMaker-ExecutionRole-20230403T093418\n",
      "aws_region: us-west-2\n"
     ]
    }
   ],
   "source": [
    "boto3_session = boto3.session.Session()\n",
    "sess = sagemaker.session.Session(boto_session=boto3_session)\n",
    "sagemaker_session_bucket = sess.default_bucket()\n",
    "aws_role = sess.get_caller_identity_arn()\n",
    "aws_region = boto3_session.region_name\n",
    "print(f'Session S3 Bucket: {sagemaker_session_bucket}')\n",
    "print(f'Role: {aws_role}')\n",
    "print(f'aws_region: {aws_region}')"
   ]
  },
  {
   "cell_type": "code",
   "execution_count": 13,
   "id": "11bc3e32-589c-4e23-ad91-3ab3c48f9517",
   "metadata": {
    "tags": []
   },
   "outputs": [
    {
     "data": {
      "text/plain": [
       "'arn:aws:sagemaker:us-west-2:594846645681:model-package/summarize-1-1-003-c51dc6a4ff7e34a1b55ac1e4f337baba'"
      ]
     },
     "execution_count": 13,
     "metadata": {},
     "output_type": "execute_result"
    }
   ],
   "source": [
    "model_package_map = {\n",
    "    \"us-east-1\": \"arn:aws:sagemaker:us-east-1:865070037744:model-package/summarize-1-1-003-c51dc6a4ff7e34a1b55ac1e4f337baba\",\n",
    "    \"us-east-2\": \"arn:aws:sagemaker:us-east-2:057799348421:model-package/summarize-1-1-003-c51dc6a4ff7e34a1b55ac1e4f337baba\",\n",
    "    \"us-west-1\": \"arn:aws:sagemaker:us-west-1:382657785993:model-package/summarize-1-1-003-c51dc6a4ff7e34a1b55ac1e4f337baba\",\n",
    "    \"us-west-2\": \"arn:aws:sagemaker:us-west-2:594846645681:model-package/summarize-1-1-003-c51dc6a4ff7e34a1b55ac1e4f337baba\",\n",
    "    \"ca-central-1\": \"arn:aws:sagemaker:ca-central-1:470592106596:model-package/summarize-1-1-003-c51dc6a4ff7e34a1b55ac1e4f337baba\",\n",
    "    \"eu-central-1\": \"arn:aws:sagemaker:eu-central-1:446921602837:model-package/summarize-1-1-003-c51dc6a4ff7e34a1b55ac1e4f337baba\",\n",
    "    \"eu-west-1\": \"arn:aws:sagemaker:eu-west-1:985815980388:model-package/summarize-1-1-003-c51dc6a4ff7e34a1b55ac1e4f337baba\",\n",
    "    \"eu-west-2\": \"arn:aws:sagemaker:eu-west-2:856760150666:model-package/summarize-1-1-003-c51dc6a4ff7e34a1b55ac1e4f337baba\",\n",
    "    \"eu-west-3\": \"arn:aws:sagemaker:eu-west-3:843114510376:model-package/summarize-1-1-003-c51dc6a4ff7e34a1b55ac1e4f337baba\",\n",
    "    \"eu-north-1\": \"arn:aws:sagemaker:eu-north-1:136758871317:model-package/summarize-1-1-003-c51dc6a4ff7e34a1b55ac1e4f337baba\",\n",
    "    \"ap-southeast-1\": \"arn:aws:sagemaker:ap-southeast-1:192199979996:model-package/summarize-1-1-003-c51dc6a4ff7e34a1b55ac1e4f337baba\",\n",
    "    \"ap-southeast-2\": \"arn:aws:sagemaker:ap-southeast-2:666831318237:model-package/summarize-1-1-003-c51dc6a4ff7e34a1b55ac1e4f337baba\",\n",
    "    \"ap-northeast-2\": \"arn:aws:sagemaker:ap-northeast-2:745090734665:model-package/summarize-1-1-003-c51dc6a4ff7e34a1b55ac1e4f337baba\",\n",
    "    \"ap-northeast-1\": \"arn:aws:sagemaker:ap-northeast-1:977537786026:model-package/summarize-1-1-003-c51dc6a4ff7e34a1b55ac1e4f337baba\",\n",
    "    \"ap-south-1\": \"arn:aws:sagemaker:ap-south-1:077584701553:model-package/summarize-1-1-003-c51dc6a4ff7e34a1b55ac1e4f337baba\",\n",
    "    \"sa-east-1\": \"arn:aws:sagemaker:sa-east-1:270155090741:model-package/summarize-1-1-003-c51dc6a4ff7e34a1b55ac1e4f337baba\"\n",
    "}\n",
    "\n",
    "model_package_arn = model_package_map[aws_region]\n",
    "model_package_arn"
   ]
  },
  {
   "cell_type": "code",
   "execution_count": 7,
   "id": "7d4c28f8-9121-4d46-b91c-2307110c7278",
   "metadata": {
    "tags": []
   },
   "outputs": [],
   "source": [
    "## function to deploy and undeploy AI21 model \n",
    "def ai21_summary_model_handler(DEPLOYED=False):\n",
    "    endpoint_name = \"ai21-summarizer-endpoint\"\n",
    "    content_type = \"application/json\"\n",
    "    # create a deployable model from the model package.\n",
    "    model = ModelPackage(role=aws_role, \n",
    "                    model_package_arn=model_package_arn, \n",
    "                    sagemaker_session=sess\n",
    "    )\n",
    "    if not DEPLOYED:\n",
    "        # Deploy the model\n",
    "        predictor = model.deploy(1, \"ml.g4dn.4xlarge\", \n",
    "                                endpoint_name=endpoint_name, \n",
    "                                model_data_download_timeout=3600,\n",
    "                                container_startup_health_check_timeout=600,\n",
    "                                )\n",
    "    else:\n",
    "        # Undeploy and cleanup \n",
    "        model.sagemaker_session.delete_endpoint(endpoint_name)\n",
    "        model.sagemaker_session.delete_endpoint_config(endpoint_name)\n",
    "        print('clean up done!')\n",
    "        "
   ]
  },
  {
   "cell_type": "code",
   "execution_count": 37,
   "id": "93db5db0-9ec0-49e7-a544-6ab83c5f2240",
   "metadata": {
    "tags": []
   },
   "outputs": [
    {
     "name": "stdout",
     "output_type": "stream",
     "text": [
      "---------!"
     ]
    }
   ],
   "source": [
    "## deploy the model \n",
    "ai21_summary_model_handler(DEPLOYED=False)\n"
   ]
  },
  {
   "cell_type": "markdown",
   "id": "3f26e9a0-b970-44fb-9d7c-99db0b40d784",
   "metadata": {},
   "source": [
    "### Step3 : Create streamlit based Web UI to Summarize the documents "
   ]
  },
  {
   "cell_type": "code",
   "execution_count": 5,
   "id": "3bbb2c35-6856-4f38-bf85-606503402f50",
   "metadata": {
    "tags": []
   },
   "outputs": [
    {
     "name": "stdout",
     "output_type": "stream",
     "text": [
      "Overwriting summarizer-workshop/summ.py\n"
     ]
    }
   ],
   "source": [
    "%%writefile summarizer-workshop/summ.py\n",
    "\n",
    "import ai21\n",
    "import json as json\n",
    "import os\n",
    "import streamlit as st \n",
    "\n",
    "USER_ICON = \"images/user-icon.png\"\n",
    "AI_ICON = \"images/ai-icon.png\"\n",
    "SUMMARIZER_ENDPOINT_NAME = \"ai21-summarizer-endpoint\"\n",
    "\n",
    "st.markdown(\"\"\"\n",
    "        <style>\n",
    "               .block-container {\n",
    "                    padding-top: 32px;\n",
    "                    padding-bottom: 32px;\n",
    "                    padding-left: 0;\n",
    "                    padding-right: 0;\n",
    "                }\n",
    "                .element-container img {\n",
    "                    background-color: #000000;\n",
    "                }\n",
    "\n",
    "                .main-header {\n",
    "                    font-size: 32px;\n",
    "                }\n",
    "                .main-subheader {\n",
    "                    font-size: 24px;\n",
    "                }\n",
    "        </style>\n",
    "        \"\"\", unsafe_allow_html=True)\n",
    "\n",
    "def write_logo():\n",
    "    col1, col2, col3 = st.columns([1, 1, 5])\n",
    "    with col1:\n",
    "        st.image(AI_ICON, use_column_width='always')\n",
    "    with col3:\n",
    "        header = f\"Generative AI Powered Business Document Summarizer!\"\n",
    "        st.write(f\"<h3 class='main-header'>{header}</h3>\", \n",
    "                 unsafe_allow_html=True)\n",
    "\n",
    "def write_top_bar():\n",
    "    col1, col2, col3 = st.columns([12,1,4])\n",
    "    with col1:\n",
    "        selected_doc = st.selectbox( \n",
    "        'Please choose a Document',\n",
    "         ('Amazon Shareholder Letter 2022', \n",
    "          'Amazon Shareholder Letter 2021'))\n",
    "    with col2:\n",
    "        pass\n",
    "    with col3:\n",
    "        selected_page = st.selectbox( \n",
    "            'Page Number',\n",
    "            ('1', \n",
    "            '2',\n",
    "            '3',\n",
    "            '4',\n",
    "            '5',\n",
    "            '6',\n",
    "            '7',\n",
    "            '8'))\n",
    "    return selected_doc, selected_page\n",
    "\n",
    "def get_text_source_file(selected_doc, selected_page):\n",
    "    if selected_doc == 'Amazon Shareholder Letter 2022':\n",
    "        filepath = f'docs/2022-Shareholder-Letter'\n",
    "    elif selected_doc == 'Amazon Shareholder Letter 2021':\n",
    "        filepath = f'docs/2021-Shareholder-Letter'\n",
    "    filepath = f'{filepath}_{selected_page}.txt'\n",
    "    return filepath\n",
    "\n",
    "def generate_summary(selected_doc, selected_page):\n",
    "    source_file = get_text_source_file(selected_doc, selected_page)\n",
    "    print(source_file)\n",
    "    with open(source_file, 'r') as f:\n",
    "        source_text = f.read()\n",
    "    response = ai21.Summarize.execute(\n",
    "                          source=source_text,\n",
    "                          sourceType=\"TEXT\",\n",
    "                          destination=ai21.SageMakerDestination(SUMMARIZER_ENDPOINT_NAME)\n",
    "    )\n",
    "    summary_results = st.text_area(label=\"summary\",\n",
    "        value=f\"{response.summary}\",\n",
    "        key=\"summary_results\",\n",
    "        label_visibility=\"hidden\",\n",
    "        height=640)\n",
    "    \n",
    "if __name__ == \"__main__\":\n",
    "    write_logo()\n",
    "    selected_doc, selected_page  = write_top_bar()\n",
    "    st.markdown('---')\n",
    "    header=f\"Summary of page {selected_page} of {selected_doc}\"\n",
    "    col1, col2, col3 = st.columns([2,12,1])\n",
    "    with col2:\n",
    "        prompt = st.button(f\"Click here to generate {header}\",\n",
    "                type=\"primary\")\n",
    "    if not prompt:\n",
    "        st.text_area(label=\"summary\",\n",
    "                    value=\"Summary will be shown here\",\n",
    "                    label_visibility=\"hidden\",\n",
    "                    height=240)\n",
    "    else:\n",
    "        summary = generate_summary(selected_doc, selected_page)\n",
    "    \n"
   ]
  },
  {
   "cell_type": "markdown",
   "id": "dfbccbff-60f8-4b3e-bdcc-d3b3c6f603ce",
   "metadata": {
    "tags": []
   },
   "source": [
    "### Last step : Run steamlit app \n",
    "\n",
    "    1. Open System terminal through launcher\n",
    "    2. Ensure current working directory is summarizer-workshop\n",
    "    3. Run `pip install streamlit \"ai21[AWS]\" `\n",
    "    3. Run `sh setup.sh`\n",
    "    4. Run `sh run.sh` \n",
    "        Follow the URL for the streamlit app "
   ]
  },
  {
   "cell_type": "code",
   "execution_count": 14,
   "id": "696b3083-2526-48cf-b899-6d24639f5251",
   "metadata": {
    "tags": []
   },
   "outputs": [
    {
     "name": "stdout",
     "output_type": "stream",
     "text": [
      "clean up done!\n"
     ]
    }
   ],
   "source": [
    "## undeploy the AI21 model\n",
    "## may need to reimport librarie and set boto/sagemaker sessions again\n",
    "ai21_summary_model_handler(DEPLOYED=True)"
   ]
  }
 ],
 "metadata": {
  "availableInstances": [
   {
    "_defaultOrder": 0,
    "_isFastLaunch": true,
    "category": "General purpose",
    "gpuNum": 0,
    "hideHardwareSpecs": false,
    "memoryGiB": 4,
    "name": "ml.t3.medium",
    "vcpuNum": 2
   },
   {
    "_defaultOrder": 1,
    "_isFastLaunch": false,
    "category": "General purpose",
    "gpuNum": 0,
    "hideHardwareSpecs": false,
    "memoryGiB": 8,
    "name": "ml.t3.large",
    "vcpuNum": 2
   },
   {
    "_defaultOrder": 2,
    "_isFastLaunch": false,
    "category": "General purpose",
    "gpuNum": 0,
    "hideHardwareSpecs": false,
    "memoryGiB": 16,
    "name": "ml.t3.xlarge",
    "vcpuNum": 4
   },
   {
    "_defaultOrder": 3,
    "_isFastLaunch": false,
    "category": "General purpose",
    "gpuNum": 0,
    "hideHardwareSpecs": false,
    "memoryGiB": 32,
    "name": "ml.t3.2xlarge",
    "vcpuNum": 8
   },
   {
    "_defaultOrder": 4,
    "_isFastLaunch": true,
    "category": "General purpose",
    "gpuNum": 0,
    "hideHardwareSpecs": false,
    "memoryGiB": 8,
    "name": "ml.m5.large",
    "vcpuNum": 2
   },
   {
    "_defaultOrder": 5,
    "_isFastLaunch": false,
    "category": "General purpose",
    "gpuNum": 0,
    "hideHardwareSpecs": false,
    "memoryGiB": 16,
    "name": "ml.m5.xlarge",
    "vcpuNum": 4
   },
   {
    "_defaultOrder": 6,
    "_isFastLaunch": false,
    "category": "General purpose",
    "gpuNum": 0,
    "hideHardwareSpecs": false,
    "memoryGiB": 32,
    "name": "ml.m5.2xlarge",
    "vcpuNum": 8
   },
   {
    "_defaultOrder": 7,
    "_isFastLaunch": false,
    "category": "General purpose",
    "gpuNum": 0,
    "hideHardwareSpecs": false,
    "memoryGiB": 64,
    "name": "ml.m5.4xlarge",
    "vcpuNum": 16
   },
   {
    "_defaultOrder": 8,
    "_isFastLaunch": false,
    "category": "General purpose",
    "gpuNum": 0,
    "hideHardwareSpecs": false,
    "memoryGiB": 128,
    "name": "ml.m5.8xlarge",
    "vcpuNum": 32
   },
   {
    "_defaultOrder": 9,
    "_isFastLaunch": false,
    "category": "General purpose",
    "gpuNum": 0,
    "hideHardwareSpecs": false,
    "memoryGiB": 192,
    "name": "ml.m5.12xlarge",
    "vcpuNum": 48
   },
   {
    "_defaultOrder": 10,
    "_isFastLaunch": false,
    "category": "General purpose",
    "gpuNum": 0,
    "hideHardwareSpecs": false,
    "memoryGiB": 256,
    "name": "ml.m5.16xlarge",
    "vcpuNum": 64
   },
   {
    "_defaultOrder": 11,
    "_isFastLaunch": false,
    "category": "General purpose",
    "gpuNum": 0,
    "hideHardwareSpecs": false,
    "memoryGiB": 384,
    "name": "ml.m5.24xlarge",
    "vcpuNum": 96
   },
   {
    "_defaultOrder": 12,
    "_isFastLaunch": false,
    "category": "General purpose",
    "gpuNum": 0,
    "hideHardwareSpecs": false,
    "memoryGiB": 8,
    "name": "ml.m5d.large",
    "vcpuNum": 2
   },
   {
    "_defaultOrder": 13,
    "_isFastLaunch": false,
    "category": "General purpose",
    "gpuNum": 0,
    "hideHardwareSpecs": false,
    "memoryGiB": 16,
    "name": "ml.m5d.xlarge",
    "vcpuNum": 4
   },
   {
    "_defaultOrder": 14,
    "_isFastLaunch": false,
    "category": "General purpose",
    "gpuNum": 0,
    "hideHardwareSpecs": false,
    "memoryGiB": 32,
    "name": "ml.m5d.2xlarge",
    "vcpuNum": 8
   },
   {
    "_defaultOrder": 15,
    "_isFastLaunch": false,
    "category": "General purpose",
    "gpuNum": 0,
    "hideHardwareSpecs": false,
    "memoryGiB": 64,
    "name": "ml.m5d.4xlarge",
    "vcpuNum": 16
   },
   {
    "_defaultOrder": 16,
    "_isFastLaunch": false,
    "category": "General purpose",
    "gpuNum": 0,
    "hideHardwareSpecs": false,
    "memoryGiB": 128,
    "name": "ml.m5d.8xlarge",
    "vcpuNum": 32
   },
   {
    "_defaultOrder": 17,
    "_isFastLaunch": false,
    "category": "General purpose",
    "gpuNum": 0,
    "hideHardwareSpecs": false,
    "memoryGiB": 192,
    "name": "ml.m5d.12xlarge",
    "vcpuNum": 48
   },
   {
    "_defaultOrder": 18,
    "_isFastLaunch": false,
    "category": "General purpose",
    "gpuNum": 0,
    "hideHardwareSpecs": false,
    "memoryGiB": 256,
    "name": "ml.m5d.16xlarge",
    "vcpuNum": 64
   },
   {
    "_defaultOrder": 19,
    "_isFastLaunch": false,
    "category": "General purpose",
    "gpuNum": 0,
    "hideHardwareSpecs": false,
    "memoryGiB": 384,
    "name": "ml.m5d.24xlarge",
    "vcpuNum": 96
   },
   {
    "_defaultOrder": 20,
    "_isFastLaunch": false,
    "category": "General purpose",
    "gpuNum": 0,
    "hideHardwareSpecs": true,
    "memoryGiB": 0,
    "name": "ml.geospatial.interactive",
    "supportedImageNames": [
     "sagemaker-geospatial-v1-0"
    ],
    "vcpuNum": 0
   },
   {
    "_defaultOrder": 21,
    "_isFastLaunch": true,
    "category": "Compute optimized",
    "gpuNum": 0,
    "hideHardwareSpecs": false,
    "memoryGiB": 4,
    "name": "ml.c5.large",
    "vcpuNum": 2
   },
   {
    "_defaultOrder": 22,
    "_isFastLaunch": false,
    "category": "Compute optimized",
    "gpuNum": 0,
    "hideHardwareSpecs": false,
    "memoryGiB": 8,
    "name": "ml.c5.xlarge",
    "vcpuNum": 4
   },
   {
    "_defaultOrder": 23,
    "_isFastLaunch": false,
    "category": "Compute optimized",
    "gpuNum": 0,
    "hideHardwareSpecs": false,
    "memoryGiB": 16,
    "name": "ml.c5.2xlarge",
    "vcpuNum": 8
   },
   {
    "_defaultOrder": 24,
    "_isFastLaunch": false,
    "category": "Compute optimized",
    "gpuNum": 0,
    "hideHardwareSpecs": false,
    "memoryGiB": 32,
    "name": "ml.c5.4xlarge",
    "vcpuNum": 16
   },
   {
    "_defaultOrder": 25,
    "_isFastLaunch": false,
    "category": "Compute optimized",
    "gpuNum": 0,
    "hideHardwareSpecs": false,
    "memoryGiB": 72,
    "name": "ml.c5.9xlarge",
    "vcpuNum": 36
   },
   {
    "_defaultOrder": 26,
    "_isFastLaunch": false,
    "category": "Compute optimized",
    "gpuNum": 0,
    "hideHardwareSpecs": false,
    "memoryGiB": 96,
    "name": "ml.c5.12xlarge",
    "vcpuNum": 48
   },
   {
    "_defaultOrder": 27,
    "_isFastLaunch": false,
    "category": "Compute optimized",
    "gpuNum": 0,
    "hideHardwareSpecs": false,
    "memoryGiB": 144,
    "name": "ml.c5.18xlarge",
    "vcpuNum": 72
   },
   {
    "_defaultOrder": 28,
    "_isFastLaunch": false,
    "category": "Compute optimized",
    "gpuNum": 0,
    "hideHardwareSpecs": false,
    "memoryGiB": 192,
    "name": "ml.c5.24xlarge",
    "vcpuNum": 96
   },
   {
    "_defaultOrder": 29,
    "_isFastLaunch": true,
    "category": "Accelerated computing",
    "gpuNum": 1,
    "hideHardwareSpecs": false,
    "memoryGiB": 16,
    "name": "ml.g4dn.xlarge",
    "vcpuNum": 4
   },
   {
    "_defaultOrder": 30,
    "_isFastLaunch": false,
    "category": "Accelerated computing",
    "gpuNum": 1,
    "hideHardwareSpecs": false,
    "memoryGiB": 32,
    "name": "ml.g4dn.2xlarge",
    "vcpuNum": 8
   },
   {
    "_defaultOrder": 31,
    "_isFastLaunch": false,
    "category": "Accelerated computing",
    "gpuNum": 1,
    "hideHardwareSpecs": false,
    "memoryGiB": 64,
    "name": "ml.g4dn.4xlarge",
    "vcpuNum": 16
   },
   {
    "_defaultOrder": 32,
    "_isFastLaunch": false,
    "category": "Accelerated computing",
    "gpuNum": 1,
    "hideHardwareSpecs": false,
    "memoryGiB": 128,
    "name": "ml.g4dn.8xlarge",
    "vcpuNum": 32
   },
   {
    "_defaultOrder": 33,
    "_isFastLaunch": false,
    "category": "Accelerated computing",
    "gpuNum": 4,
    "hideHardwareSpecs": false,
    "memoryGiB": 192,
    "name": "ml.g4dn.12xlarge",
    "vcpuNum": 48
   },
   {
    "_defaultOrder": 34,
    "_isFastLaunch": false,
    "category": "Accelerated computing",
    "gpuNum": 1,
    "hideHardwareSpecs": false,
    "memoryGiB": 256,
    "name": "ml.g4dn.16xlarge",
    "vcpuNum": 64
   },
   {
    "_defaultOrder": 35,
    "_isFastLaunch": false,
    "category": "Accelerated computing",
    "gpuNum": 1,
    "hideHardwareSpecs": false,
    "memoryGiB": 61,
    "name": "ml.p3.2xlarge",
    "vcpuNum": 8
   },
   {
    "_defaultOrder": 36,
    "_isFastLaunch": false,
    "category": "Accelerated computing",
    "gpuNum": 4,
    "hideHardwareSpecs": false,
    "memoryGiB": 244,
    "name": "ml.p3.8xlarge",
    "vcpuNum": 32
   },
   {
    "_defaultOrder": 37,
    "_isFastLaunch": false,
    "category": "Accelerated computing",
    "gpuNum": 8,
    "hideHardwareSpecs": false,
    "memoryGiB": 488,
    "name": "ml.p3.16xlarge",
    "vcpuNum": 64
   },
   {
    "_defaultOrder": 38,
    "_isFastLaunch": false,
    "category": "Accelerated computing",
    "gpuNum": 8,
    "hideHardwareSpecs": false,
    "memoryGiB": 768,
    "name": "ml.p3dn.24xlarge",
    "vcpuNum": 96
   },
   {
    "_defaultOrder": 39,
    "_isFastLaunch": false,
    "category": "Memory Optimized",
    "gpuNum": 0,
    "hideHardwareSpecs": false,
    "memoryGiB": 16,
    "name": "ml.r5.large",
    "vcpuNum": 2
   },
   {
    "_defaultOrder": 40,
    "_isFastLaunch": false,
    "category": "Memory Optimized",
    "gpuNum": 0,
    "hideHardwareSpecs": false,
    "memoryGiB": 32,
    "name": "ml.r5.xlarge",
    "vcpuNum": 4
   },
   {
    "_defaultOrder": 41,
    "_isFastLaunch": false,
    "category": "Memory Optimized",
    "gpuNum": 0,
    "hideHardwareSpecs": false,
    "memoryGiB": 64,
    "name": "ml.r5.2xlarge",
    "vcpuNum": 8
   },
   {
    "_defaultOrder": 42,
    "_isFastLaunch": false,
    "category": "Memory Optimized",
    "gpuNum": 0,
    "hideHardwareSpecs": false,
    "memoryGiB": 128,
    "name": "ml.r5.4xlarge",
    "vcpuNum": 16
   },
   {
    "_defaultOrder": 43,
    "_isFastLaunch": false,
    "category": "Memory Optimized",
    "gpuNum": 0,
    "hideHardwareSpecs": false,
    "memoryGiB": 256,
    "name": "ml.r5.8xlarge",
    "vcpuNum": 32
   },
   {
    "_defaultOrder": 44,
    "_isFastLaunch": false,
    "category": "Memory Optimized",
    "gpuNum": 0,
    "hideHardwareSpecs": false,
    "memoryGiB": 384,
    "name": "ml.r5.12xlarge",
    "vcpuNum": 48
   },
   {
    "_defaultOrder": 45,
    "_isFastLaunch": false,
    "category": "Memory Optimized",
    "gpuNum": 0,
    "hideHardwareSpecs": false,
    "memoryGiB": 512,
    "name": "ml.r5.16xlarge",
    "vcpuNum": 64
   },
   {
    "_defaultOrder": 46,
    "_isFastLaunch": false,
    "category": "Memory Optimized",
    "gpuNum": 0,
    "hideHardwareSpecs": false,
    "memoryGiB": 768,
    "name": "ml.r5.24xlarge",
    "vcpuNum": 96
   },
   {
    "_defaultOrder": 47,
    "_isFastLaunch": false,
    "category": "Accelerated computing",
    "gpuNum": 1,
    "hideHardwareSpecs": false,
    "memoryGiB": 16,
    "name": "ml.g5.xlarge",
    "vcpuNum": 4
   },
   {
    "_defaultOrder": 48,
    "_isFastLaunch": false,
    "category": "Accelerated computing",
    "gpuNum": 1,
    "hideHardwareSpecs": false,
    "memoryGiB": 32,
    "name": "ml.g5.2xlarge",
    "vcpuNum": 8
   },
   {
    "_defaultOrder": 49,
    "_isFastLaunch": false,
    "category": "Accelerated computing",
    "gpuNum": 1,
    "hideHardwareSpecs": false,
    "memoryGiB": 64,
    "name": "ml.g5.4xlarge",
    "vcpuNum": 16
   },
   {
    "_defaultOrder": 50,
    "_isFastLaunch": false,
    "category": "Accelerated computing",
    "gpuNum": 1,
    "hideHardwareSpecs": false,
    "memoryGiB": 128,
    "name": "ml.g5.8xlarge",
    "vcpuNum": 32
   },
   {
    "_defaultOrder": 51,
    "_isFastLaunch": false,
    "category": "Accelerated computing",
    "gpuNum": 1,
    "hideHardwareSpecs": false,
    "memoryGiB": 256,
    "name": "ml.g5.16xlarge",
    "vcpuNum": 64
   },
   {
    "_defaultOrder": 52,
    "_isFastLaunch": false,
    "category": "Accelerated computing",
    "gpuNum": 4,
    "hideHardwareSpecs": false,
    "memoryGiB": 192,
    "name": "ml.g5.12xlarge",
    "vcpuNum": 48
   },
   {
    "_defaultOrder": 53,
    "_isFastLaunch": false,
    "category": "Accelerated computing",
    "gpuNum": 4,
    "hideHardwareSpecs": false,
    "memoryGiB": 384,
    "name": "ml.g5.24xlarge",
    "vcpuNum": 96
   },
   {
    "_defaultOrder": 54,
    "_isFastLaunch": false,
    "category": "Accelerated computing",
    "gpuNum": 8,
    "hideHardwareSpecs": false,
    "memoryGiB": 768,
    "name": "ml.g5.48xlarge",
    "vcpuNum": 192
   },
   {
    "_defaultOrder": 55,
    "_isFastLaunch": false,
    "category": "Accelerated computing",
    "gpuNum": 8,
    "hideHardwareSpecs": false,
    "memoryGiB": 1152,
    "name": "ml.p4d.24xlarge",
    "vcpuNum": 96
   },
   {
    "_defaultOrder": 56,
    "_isFastLaunch": false,
    "category": "Accelerated computing",
    "gpuNum": 8,
    "hideHardwareSpecs": false,
    "memoryGiB": 1152,
    "name": "ml.p4de.24xlarge",
    "vcpuNum": 96
   }
  ],
  "instance_type": "ml.t3.medium",
  "kernelspec": {
   "display_name": "Python 3 (Data Science 3.0)",
   "language": "python",
   "name": "python3__SAGEMAKER_INTERNAL__arn:aws:sagemaker:us-west-2:236514542706:image/sagemaker-data-science-310-v1"
  },
  "language_info": {
   "codemirror_mode": {
    "name": "ipython",
    "version": 3
   },
   "file_extension": ".py",
   "mimetype": "text/x-python",
   "name": "python",
   "nbconvert_exporter": "python",
   "pygments_lexer": "ipython3",
   "version": "3.10.6"
  }
 },
 "nbformat": 4,
 "nbformat_minor": 5
}
